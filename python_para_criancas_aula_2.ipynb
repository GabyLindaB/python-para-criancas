{
  "nbformat": 4,
  "nbformat_minor": 0,
  "metadata": {
    "colab": {
      "provenance": [],
      "authorship_tag": "ABX9TyN+C0Q7EeD2+umRlrkArHDT",
      "include_colab_link": true
    },
    "kernelspec": {
      "name": "python3",
      "display_name": "Python 3"
    },
    "language_info": {
      "name": "python"
    }
  },
  "cells": [
    {
      "cell_type": "markdown",
      "metadata": {
        "id": "view-in-github",
        "colab_type": "text"
      },
      "source": [
        "<a href=\"https://colab.research.google.com/github/GabyLindaB/python-para-criancas/blob/main/python_para_criancas_aula_2.ipynb\" target=\"_parent\"><img src=\"https://colab.research.google.com/assets/colab-badge.svg\" alt=\"Open In Colab\"/></a>"
      ]
    },
    {
      "cell_type": "markdown",
      "source": [
        "## ***Jogo Da História***"
      ],
      "metadata": {
        "id": "MlCu_LSLspIu"
      }
    },
    {
      "cell_type": "markdown",
      "source": [
        "esse é o jogo da história! esse jogo será formado por 2 jogadores cada jogador irá inserir uma frase por rodada! cada rodada forma um parafgrafo, serão 3 rodadas no final, os jogadores escolhem juntos um titulo juntaremos as frases para formar uma história muito divertida!!!"
      ],
      "metadata": {
        "id": "uCdUk3xDtRXC"
      }
    },
    {
      "cell_type": "markdown",
      "source": [
        "# ***Primeira Rodada***"
      ],
      "metadata": {
        "id": "KPUfpIHjtuCB"
      }
    },
    {
      "cell_type": "code",
      "source": [
        "frase_jogador1=input(\"jogador 1, digite sua primeira frase: \")"
      ],
      "metadata": {
        "colab": {
          "base_uri": "https://localhost:8080/"
        },
        "id": "Gva8Jv7Rsqhi",
        "outputId": "570e1ce2-e729-4273-836a-0c89aa1732ed"
      },
      "execution_count": 5,
      "outputs": [
        {
          "name": "stdout",
          "output_type": "stream",
          "text": [
            "jogador 1, digite sua primeira frase: era uma vez uma menina chamada maria\n"
          ]
        }
      ]
    },
    {
      "cell_type": "code",
      "execution_count": 6,
      "metadata": {
        "colab": {
          "base_uri": "https://localhost:8080/"
        },
        "id": "SzV-j-7zsTm9",
        "outputId": "50dde8fc-319c-4b4e-aea2-d1708a458aff"
      },
      "outputs": [
        {
          "name": "stdout",
          "output_type": "stream",
          "text": [
            "jogador 2, digite sua primeira frase: Ela amava coisas divertidas e tambem gostava de comer comida japonesa\n"
          ]
        }
      ],
      "source": [
        "frase_jogador2=input(\"jogador 2, digite sua primeira frase: \" )"
      ]
    },
    {
      "cell_type": "markdown",
      "source": [
        "# ***Segunda Rodada***"
      ],
      "metadata": {
        "id": "01jcUib8vIZG"
      }
    },
    {
      "cell_type": "code",
      "source": [
        "frase2_jogador1=input(\"jogador 1 ,digite sua segunda frase: \")"
      ],
      "metadata": {
        "colab": {
          "base_uri": "https://localhost:8080/"
        },
        "id": "LpXQ0u20vTHP",
        "outputId": "f0b4552f-0b50-40e8-d104-ec28e4a17ef7"
      },
      "execution_count": 7,
      "outputs": [
        {
          "name": "stdout",
          "output_type": "stream",
          "text": [
            "jogador 1 ,digite sua segunda frase: ela era bem criativa e um dia depois ela ouviu uma lenda de um monstro que morava na floresta\n"
          ]
        }
      ]
    },
    {
      "cell_type": "code",
      "source": [
        "frase2_jogador2=input(\"jogador 2 ,digite sua segunda frase: \")"
      ],
      "metadata": {
        "colab": {
          "base_uri": "https://localhost:8080/"
        },
        "id": "bT5uwWjmvwcM",
        "outputId": "5c32bae9-6e21-47aa-b4a8-d8199e33d783"
      },
      "execution_count": 8,
      "outputs": [
        {
          "name": "stdout",
          "output_type": "stream",
          "text": [
            "jogador 2 ,digite sua segunda frase: Um dia ela foi em um parque de diversoes magico\n"
          ]
        }
      ]
    },
    {
      "cell_type": "markdown",
      "source": [
        "# ***Terceira rodada***"
      ],
      "metadata": {
        "id": "7yn20uJtxby6"
      }
    },
    {
      "cell_type": "code",
      "source": [
        "frase3_jogador1=input(\"jogador 1 ,Digite sua ultima frase: \")"
      ],
      "metadata": {
        "colab": {
          "base_uri": "https://localhost:8080/"
        },
        "id": "CF8LhmiFxiY-",
        "outputId": "565add3c-4482-4600-df2d-99ec3c9ab4b3"
      },
      "execution_count": 9,
      "outputs": [
        {
          "name": "stdout",
          "output_type": "stream",
          "text": [
            "jogador 1 ,Digite sua ultima frase: e naquele parque ela viu um monstro e ela ficou com medo mais descobriu que ele era bonzinho\n"
          ]
        }
      ]
    },
    {
      "cell_type": "code",
      "source": [
        "frase3_jogador2=input(\"jogador 2 ,Digite sua ultima frase: \")"
      ],
      "metadata": {
        "colab": {
          "base_uri": "https://localhost:8080/"
        },
        "id": "lNMETTECxuHa",
        "outputId": "c8269ec5-6518-45cf-cdf9-d44008017060"
      },
      "execution_count": 10,
      "outputs": [
        {
          "name": "stdout",
          "output_type": "stream",
          "text": [
            "jogador 2 ,Digite sua ultima frase: Ela ficou muito feliz quando encontrou seus amigos e foram para casa descançar e dar risada do que aconteceu\n"
          ]
        }
      ]
    },
    {
      "cell_type": "markdown",
      "source": [
        "# ***Criando A história***"
      ],
      "metadata": {
        "id": "_QIwx6WuyIUg"
      }
    },
    {
      "cell_type": "markdown",
      "source": [
        "Agora que já temos 6 frases iremos juntá-las formando uma historia bem divertida, Para issso iremos criar uma nova variavel que irá juntar todas as informações amazernadas anteriomente"
      ],
      "metadata": {
        "id": "j2BHWDwpzYrw"
      }
    },
    {
      "cell_type": "code",
      "source": [
        "paragrafo1=frase_jogador1+\" \"+frase_jogador2"
      ],
      "metadata": {
        "id": "Z_2d4JsA24Yp"
      },
      "execution_count": 11,
      "outputs": []
    },
    {
      "cell_type": "code",
      "source": [
        "paragrafo2=frase2_jogador1+\" \"+frase2_jogador2"
      ],
      "metadata": {
        "id": "MUzUluGK24Gb"
      },
      "execution_count": 12,
      "outputs": []
    },
    {
      "cell_type": "code",
      "source": [
        "paragrafo3=frase3_jogador1+\" \"+frase3_jogador2"
      ],
      "metadata": {
        "id": "NAGu6XE32T41"
      },
      "execution_count": 16,
      "outputs": []
    },
    {
      "cell_type": "code",
      "source": [
        "historia=paragrafo1+\" \"+paragrafo2+\" \"+paragrafo3"
      ],
      "metadata": {
        "id": "6jUaeAqf2Sam"
      },
      "execution_count": 15,
      "outputs": []
    },
    {
      "cell_type": "markdown",
      "source": [
        "# ***Mostrando A História***"
      ],
      "metadata": {
        "id": "8WYBvtH25n_s"
      }
    },
    {
      "cell_type": "code",
      "source": [
        "print(historia)"
      ],
      "metadata": {
        "colab": {
          "base_uri": "https://localhost:8080/"
        },
        "id": "75erNL0h5uT8",
        "outputId": "749eb74e-ee7b-4430-fea4-facaf00d7858"
      },
      "execution_count": 17,
      "outputs": [
        {
          "output_type": "stream",
          "name": "stdout",
          "text": [
            "era uma vez uma menina chamada maria Ela amava coisas divertidas e tambem gostava de comer comida japonesa ela era bem criativa e um dia depois ela ouviu uma lenda de um monstro que morava na floresta Um dia ela foi em um parque de diversoes magico e naquele parque ela viu um monstro e ela ficou com medo mais descobriu que ele era bonzinho Ela ficou muito feliz quando encontrou seus amigos e foram para casa descançar e dar risada do que aconteceu\n"
          ]
        }
      ]
    }
  ]
}